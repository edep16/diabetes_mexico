version https://git-lfs.github.com/spec/v1
oid sha256:6ec867987e51dc8f1ce3d0b13f811dd72150c1a29b0149a7199a8c6533656a7e
size 280267
