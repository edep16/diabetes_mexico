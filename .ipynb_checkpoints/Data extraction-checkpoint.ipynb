version https://git-lfs.github.com/spec/v1
oid sha256:a412566d8a03bd5708f2f133f3a7413f51d4e9cf7d6e351ec4f38352888f727e
size 1097967
